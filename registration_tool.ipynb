{
 "cells": [
  {
   "cell_type": "markdown",
   "id": "0ee962b2-38f0-49ea-ae18-fd52081b6820",
   "metadata": {},
   "source": [
    "Image registration tool using cv2  \n",
    "\n",
    "Possible future features:\n",
    "* Preprocess image if needed (e.g. invert pixel value)\n",
    "* change sift parameters\n",
    "* Iterating over Lowe's Ratio Test - Maybe values between 0.6-0.8 - lower is more selective.\n",
    "* Change RANSAC reprojection threshold - a smaller value will increase precision (fewer incorrect matches will be accepted), but may also decrease recall (fewer total matches will be found).\n",
    "* Use metrixs to evaluate registration matrix.\n",
    "* Maybe change the random seed to get better registration results (and loop)"
   ]
  },
  {
   "cell_type": "code",
   "execution_count": 1,
   "id": "12e8452a-9a50-4b71-bdba-1a7c8bcdf4fb",
   "metadata": {
    "tags": []
   },
   "outputs": [],
   "source": [
    "import argparse\n",
    "import cv2\n",
    "import numpy as np\n",
    "import os\n",
    "import logging\n",
    "from enum import Enum\n",
    "import sys\n",
    "from glob import glob\n",
    "try:\n",
    "    import tifffile as tif\n",
    "except ImportError(tif):\n",
    "    logging.warning(\"tif images can't be read, as the tifffile package is not installed.\")\n",
    "try:\n",
    "    import aicspylibczi\n",
    "except ImportError(aicspylibczi):\n",
    "    logging.warning(\"CZI images can't be read, as the aicspylibczi package is not installed.\")"
   ]
  },
  {
   "cell_type": "code",
   "execution_count": 34,
   "id": "97d99f5b",
   "metadata": {},
   "outputs": [],
   "source": [
    "def def_flann_matches():\n",
    "    index_params = dict(algorithm=1, trees=5)\n",
    "    search_params = dict(checks=50)\n",
    "    flann = cv2.FlannBasedMatcher(index_params, search_params)\n",
    "    return flann"
   ]
  },
  {
   "cell_type": "code",
   "execution_count": 35,
   "id": "2a5d00e1",
   "metadata": {},
   "outputs": [],
   "source": [
    "class RuntimeParameters(Enum):\n",
    "    cv2_warp_max_image_size = 32767\n",
    "    cv2_seed = 0\n",
    "    sift = cv2.SIFT_create()\n",
    "    flann = def_flann_matches()"
   ]
  },
  {
   "cell_type": "code",
   "execution_count": 2,
   "id": "822e05d4-3658-4d07-8373-88f6801e87fe",
   "metadata": {
    "tags": []
   },
   "outputs": [],
   "source": [
    "def set_logger():\n",
    "    logger = logging.getLogger()\n",
    "    logger.setLevel(logging.INFO)\n",
    "    logging.info(\"Starting\")"
   ]
  },
  {
   "cell_type": "code",
   "execution_count": 42,
   "id": "a68ce1a8-4b4b-4208-96ff-216a139102f5",
   "metadata": {
    "tags": []
   },
   "outputs": [],
   "source": [
    "def get_list_of_source_images_paths(src_img_or_dir_path, dst_img_path):\n",
    "    if os.path.isdir(src_img_or_dir_path):\n",
    "        src_ims_paths = [f for f in glob(os.path.join(src_img_or_dir_path, '*')) if\n",
    "                         os.path.basename(f) != os.path.basename(dst_img_path)]\n",
    "    else:\n",
    "        src_ims_paths = [src_img_or_dir_path]\n",
    "\n",
    "    src_ims_paths_str = \"\\n\" + \"\\n\".join(src_ims_paths)\n",
    "    logging.info(f'List of images to register to destination image: {src_ims_paths_str}')\n",
    "\n",
    "    return src_ims_paths"
   ]
  },
  {
   "cell_type": "code",
   "execution_count": 3,
   "id": "b59178d2",
   "metadata": {},
   "outputs": [],
   "source": [
    "def get_file_extension(image_path):\n",
    "    return os.path.splitext(image_path)[-1]"
   ]
  },
  {
   "cell_type": "code",
   "execution_count": 4,
   "id": "9a186181",
   "metadata": {},
   "outputs": [],
   "source": [
    "def read_and_preprocess_destination_image(dst_img_path, dst_extension, cnl_for_sift_analysis):\n",
    "    logging.info(f'Reading destination image:')\n",
    "    image = read_and_preprocess_image(dst_img_path, dst_extension, cnl_for_sift_analysis)\n",
    "\n",
    "    if image is None:\n",
    "        raise Exception('Destination image path is either not an image or an unsupported format.')\n",
    "\n",
    "    return image"
   ]
  },
  {
   "cell_type": "code",
   "execution_count": 5,
   "id": "91881612",
   "metadata": {},
   "outputs": [],
   "source": [
    "def read_and_preprocess_image(image_path, extension, cnl_for_sift_analysis):\n",
    "    logging.info(f'Reading image {image_path}')\n",
    "\n",
    "    image = read_image(image_path, extension, cnl_for_sift_analysis)\n",
    "    if image is not None:\n",
    "        image = preprocess_image(image)\n",
    "\n",
    "    return image"
   ]
  },
  {
   "cell_type": "code",
   "execution_count": 6,
   "id": "f04398c8",
   "metadata": {},
   "outputs": [],
   "source": [
    "def read_image(image_path, extension, channel_idx=0):\n",
    "    if extension == '.tif':\n",
    "        image = tif.imread(image_path, key=channel_idx)\n",
    "    elif extension == '.czi':\n",
    "        czi = read_czi(image_path)\n",
    "        image = read_czi_image(czi, channel_idx=channel_idx)\n",
    "    else:\n",
    "        image = cv2.imread(image_path)\n",
    "\n",
    "    if image is None:\n",
    "        logging.warning(f'Source {image_path} either not an image file or unsupported format - Skipping')\n",
    "        return None\n",
    "\n",
    "    logging.info(f'Read {image_path}, Channel: {channel_idx}, image shape: {image.shape}')\n",
    "    log_image_metadata(image, is_preprocessed=False)\n",
    "\n",
    "    return image"
   ]
  },
  {
   "cell_type": "code",
   "execution_count": 7,
   "id": "6c991484",
   "metadata": {},
   "outputs": [],
   "source": [
    "def read_czi(image_path):\n",
    "    czi = aicspylibczi.CziFile(image_path)\n",
    "    # log_czi_metadata(czi)\n",
    "    return czi\n"
   ]
  },
  {
   "cell_type": "code",
   "execution_count": 8,
   "id": "5a82c4f1",
   "metadata": {},
   "outputs": [],
   "source": [
    "def read_czi_image(czi, channel_idx=0):\n",
    "    # need to have scale_factor as parameter - scale_factor=0.25\n",
    "    full_channel = czi.read_mosaic(C=channel_idx)[0]\n",
    "    return full_channel\n"
   ]
  },
  {
   "cell_type": "code",
   "execution_count": 9,
   "id": "1cf8617d",
   "metadata": {},
   "outputs": [],
   "source": [
    "def preprocess_image(image):\n",
    "    if image.ndim == 3:\n",
    "        image = cv2.cvtColor(image, cv2.COLOR_BGR2GRAY)\n",
    "\n",
    "    image = cv2.normalize(image, None, 0, 255, cv2.NORM_MINMAX).astype('uint8')\n",
    "    # image = cv2.equalizeHist(image)\n",
    "\n",
    "    log_image_metadata(image)\n",
    "\n",
    "    return image"
   ]
  },
  {
   "cell_type": "code",
   "execution_count": 10,
   "id": "d60a05ed",
   "metadata": {},
   "outputs": [],
   "source": [
    "def log_image_metadata(image, is_preprocessed=True):\n",
    "    processed_str = ' after preprocessing' if is_preprocessed else ''\n",
    "\n",
    "    logging.info(f'image shape{processed_str}: {image.shape}')\n",
    "    logging.info(f'image data type{processed_str}: {image.dtype}')\n",
    "    logging.info(f'image range{processed_str}: {np.min(image), np.max(image)}')"
   ]
  },
  {
   "cell_type": "code",
   "execution_count": 11,
   "id": "1010657c",
   "metadata": {},
   "outputs": [],
   "source": [
    "def create_output_dir(out_path, dst_img, dst_img_path):\n",
    "    os.makedirs(out_path, exist_ok=True)\n",
    "    cv2.imwrite(os.path.join(out_path, f'forViewing_{os.path.basename(dst_img_path)}__destination_image.png'), dst_img)\n"
   ]
  },
  {
   "cell_type": "code",
   "execution_count": 12,
   "id": "a03fa822",
   "metadata": {},
   "outputs": [],
   "source": [
    "def get_sift_based_transformation_matrix(src_img, dst_img, tile_size_tuple, tile_overlap):\n",
    "    kp1, des1 = compute_sift_tiles(src_img,\n",
    "                                   tile_size_tuple,\n",
    "                                   tile_overlap,\n",
    "                                   RuntimeParameters.sift.value)\n",
    "    kp2, des2 = compute_sift_tiles(dst_img,\n",
    "                                   tile_size_tuple,\n",
    "                                   tile_overlap,\n",
    "                                   RuntimeParameters.sift.value)\n",
    "\n",
    "    logging.info('DONE: sift based key-points detection and descriptors computation')\n",
    "\n",
    "    matches = RuntimeParameters.flann.value.knnMatch(des1, des2, k=2)\n",
    "    logging.info('DONE: FLANN - Fast Library for Approximate Nearest Neighbors - descriptor matching')\n",
    "\n",
    "    good_matches = get_good_matches(matches)\n",
    "    logging.info('DONE: get good matches by distance thresholding')\n",
    "\n",
    "    src_pts, dst_pts = get_pts_from_matches(good_matches, kp1, kp2)\n",
    "    # plot_good_matches(src_img, dst_img, src_pts, dst_pts)\n",
    "\n",
    "    h, msk = cv2.findHomography(src_pts, dst_pts, cv2.RANSAC, 5)\n",
    "    logging.info('DONE: calculated homography matrix')\n",
    "\n",
    "    return h, msk, src_pts, dst_pts\n"
   ]
  },
  {
   "cell_type": "code",
   "execution_count": 13,
   "id": "a246dd6d",
   "metadata": {},
   "outputs": [],
   "source": [
    "def get_pts_from_matches(good_matches, kp1, kp2):\n",
    "    if len(good_matches) > 10:\n",
    "        src_pts = np.float32([kp1[m.queryIdx].pt for m in good_matches]).reshape(-1, 1, 2)\n",
    "        dst_pts = np.float32([kp2[m.trainIdx].pt for m in good_matches]).reshape(-1, 1, 2)\n",
    "    else:\n",
    "        raise AssertionError(\"Not enough matches found for image registration.\")\n",
    "\n",
    "    return src_pts, dst_pts"
   ]
  },
  {
   "cell_type": "code",
   "execution_count": 14,
   "id": "d602b125",
   "metadata": {},
   "outputs": [],
   "source": [
    "def get_good_matches(matches):\n",
    "    # Store all the good matches using Lowe's ratio test\n",
    "    good_matches = []\n",
    "    for m, n in matches:\n",
    "        if m.distance < 0.8 * n.distance:\n",
    "            good_matches.append(m)\n",
    "\n",
    "    return good_matches\n"
   ]
  },
  {
   "cell_type": "code",
   "execution_count": 15,
   "id": "0bcf7ad3",
   "metadata": {},
   "outputs": [],
   "source": [
    "def compute_sift_tiles(image, tile_size_tuple, tile_overlap, sift):\n",
    "    key_points = []\n",
    "    descriptors = []\n",
    "\n",
    "    h, w = image.shape\n",
    "\n",
    "    # Extend the image so that it can be divided into equal size tiles\n",
    "    h_extend = ((h - 1) // (tile_size_tuple[1] - tile_overlap) + 1) * (tile_size_tuple[1] - tile_overlap) + tile_overlap\n",
    "    w_extend = ((w - 1) // (tile_size_tuple[0] - tile_overlap) + 1) * (tile_size_tuple[0] - tile_overlap) + tile_overlap\n",
    "\n",
    "    image_extended = np.zeros((h_extend, w_extend), dtype=image.dtype)\n",
    "\n",
    "    image_extended[:h, :w] = image\n",
    "\n",
    "    for y in range(0, h_extend - tile_overlap, tile_size_tuple[1] - tile_overlap):\n",
    "        for x in range(0, w_extend - tile_overlap, tile_size_tuple[0] - tile_overlap):\n",
    "            tile = image_extended[y:y + tile_size_tuple[1], x:x + tile_size_tuple[0]]\n",
    "            kp_tile, des_tile = sift.detectAndCompute(tile, None)\n",
    "\n",
    "            # Adjust keypoint positions to global image coordinates\n",
    "            for kp in kp_tile:\n",
    "                kp.pt = (kp.pt[0] + x, kp.pt[1] + y)\n",
    "\n",
    "            key_points.extend(kp_tile)\n",
    "            if des_tile is not None:\n",
    "                descriptors.extend(des_tile)\n",
    "\n",
    "    return key_points, np.array(descriptors)"
   ]
  },
  {
   "cell_type": "code",
   "execution_count": 16,
   "id": "b8e5a876",
   "metadata": {},
   "outputs": [],
   "source": [
    "def save_h(out_path, h, src_img_path):\n",
    "    np.save(os.path.join(out_path, f'{os.path.basename(src_img_path)}__registration_matrix.npy'), h)\n"
   ]
  },
  {
   "cell_type": "code",
   "execution_count": 17,
   "id": "da6ef23d",
   "metadata": {},
   "outputs": [],
   "source": [
    "def warp_image(dst_img_shape, src_img, h):\n",
    "    if max(src_img.shape) < RuntimeParameters.cv2_warp_max_image_size.value \\\n",
    "            and max(dst_img_shape) < RuntimeParameters.cv2_warp_max_image_size.value:\n",
    "        registered_img = cv2.warpPerspective(src_img, h, dst_img_shape[::-1])\n",
    "    else:\n",
    "        registered_img = warp_using_skimage(dst_img_shape, src_img, h)\n",
    "\n",
    "    logging.info('Registered image')\n",
    "\n",
    "    return registered_img"
   ]
  },
  {
   "cell_type": "code",
   "execution_count": 18,
   "id": "a0065564",
   "metadata": {},
   "outputs": [],
   "source": [
    "def warp_using_skimage(dst_img_shape, src_img, h):\n",
    "    try:\n",
    "        import skimage.transform\n",
    "    except ImportError:\n",
    "        logging.warning(\n",
    "            \"Images width/height is larger than 32767 - Please install skimage and rerun -\" +\n",
    "            \" due to cv2 warp function limitation.\")\n",
    "        raise AssertionError(\"Not enough matches found for image registration.\")\n",
    "\n",
    "    h_inv = np.linalg.inv(h)\n",
    "    registered_img = skimage.transform.warp(src_img, h_inv, output_shape=dst_img_shape,\n",
    "                                            preserve_range=True).astype(src_img.dtype)\n",
    "\n",
    "    return registered_img\n"
   ]
  },
  {
   "cell_type": "code",
   "execution_count": 19,
   "id": "ddce08a3",
   "metadata": {},
   "outputs": [],
   "source": [
    "def check_transformation_metrics(src_pts, dst_pts, h, msk, src_img, dst_img, registered_img):\n",
    "    # HOW DO I HANDLE THOSE CASES?\n",
    "    if check_degenerate(src_pts) or check_degenerate(dst_pts):\n",
    "        logging.warning(\"Degenerate keypoint configuration detected! Might result in a faulty homography matrix!!\")\n",
    "\n",
    "    check_transformation_by_pts_mean_sqrt(src_pts, dst_pts, h, msk)\n",
    "    check_transformation_by_n_inliers(msk)\n",
    "    check_transformation_by_point_distribution(h, src_img)\n",
    "    check_transformation_by_joint_entropy(registered_img, dst_img)\n",
    "    check_transformation_by_mse(registered_img, dst_img)"
   ]
  },
  {
   "cell_type": "code",
   "execution_count": 20,
   "id": "80284496",
   "metadata": {},
   "outputs": [],
   "source": [
    "def check_degenerate(points):\n",
    "    # Compute the standard deviation of the points\n",
    "    std_dev = np.std(points, axis=0)\n",
    "\n",
    "    # If the standard deviation is below a threshold (here 1.0),\n",
    "    # it might indicate that the points are in a degenerate configuration.\n",
    "    if np.any(std_dev < 1.0):\n",
    "        logging.warning(\"Warning: points may be in a degenerate configuration.\")"
   ]
  },
  {
   "cell_type": "code",
   "execution_count": 21,
   "id": "b449eee1",
   "metadata": {},
   "outputs": [],
   "source": [
    "def check_transformation_by_pts_mean_sqrt(src_pts, dst_pts, h, msk):\n",
    "    # Map the key_points in the source image to the destination image using the homography\n",
    "    mapped_src_pts = cv2.perspectiveTransform(src_pts, h)\n",
    "    # Calculate the Euclidean distances between the mapped source key_points and the destination key_points\n",
    "    distances = np.sqrt(np.sum((mapped_src_pts - dst_pts) ** 2, axis=2))\n",
    "    inlier_distances = distances[msk == 1]\n",
    "    # Calculate the mean of the distances\n",
    "    mean_distance = np.mean(inlier_distances)\n",
    "\n",
    "    logging.info(f'Mean Euclidean distance of mapped source key-points and destination key-points: {mean_distance}')\n",
    "\n",
    "    return mean_distance"
   ]
  },
  {
   "cell_type": "code",
   "execution_count": 22,
   "id": "3e53c0f5",
   "metadata": {},
   "outputs": [],
   "source": [
    "def check_transformation_by_n_inliers(msk):\n",
    "    # Convert mask to a list\n",
    "    msk = msk.ravel().tolist()\n",
    "\n",
    "    # Count the number of inliers and outliers\n",
    "    n_inliers = msk.count(1)\n",
    "    n_outliers = msk.count(0)\n",
    "\n",
    "    logging.info(f'RANSAC number of Inliers: {n_inliers}')\n",
    "    logging.info(f'RANSAC number of Outliers: {n_outliers}')"
   ]
  },
  {
   "cell_type": "code",
   "execution_count": 23,
   "id": "5262d6c7",
   "metadata": {},
   "outputs": [],
   "source": [
    "def check_transformation_by_point_distribution(h, src_img):\n",
    "    # Create a grid of points in the source image\n",
    "    height, width = src_img.shape\n",
    "    x = np.linspace(0, width, num=50)\n",
    "    y = np.linspace(0, height, num=50)\n",
    "    xv, yv = np.meshgrid(x, y)\n",
    "    points = np.column_stack([xv.ravel(), yv.ravel()])\n",
    "\n",
    "    # Transform the points using the homography\n",
    "    points_t = cv2.perspectiveTransform(points.reshape(-1, 1, 2), h)\n",
    "\n",
    "    # Compute the standard deviation of the transformed points\n",
    "    std_dev = np.std(points_t, axis=0)\n",
    "\n",
    "    # If the standard deviation is very small or very large, it might indicate a poor transformation.\n",
    "    if np.any(std_dev < 1.0) or np.any(std_dev > max(height, width)):\n",
    "        logging.warning(\"Transformation may be poor - transformed points grid seem to be concentrated!\")\n"
   ]
  },
  {
   "cell_type": "code",
   "execution_count": 24,
   "id": "eb3eebb9",
   "metadata": {},
   "outputs": [],
   "source": [
    "def check_transformation_by_joint_entropy(image1, image2, bins=256):\n",
    "    try:\n",
    "        from scipy.stats import entropy\n",
    "    except ImportError:\n",
    "        logging.warning(\"Joint entropy won't be used as a metric to check registration as scipy is not installed.\")\n",
    "        return\n",
    "\n",
    "    if 'scipy' in sys.modules:\n",
    "        hist_2d, _, _ = np.histogram2d(image1.ravel(), image2.ravel(), bins=bins)\n",
    "        joint_prob = hist_2d / np.sum(hist_2d)\n",
    "\n",
    "        logging.info(f'Joint entropy (lower is better): {entropy(joint_prob.ravel())}')\n"
   ]
  },
  {
   "cell_type": "code",
   "execution_count": 25,
   "id": "51f52890",
   "metadata": {},
   "outputs": [],
   "source": [
    "def check_transformation_by_mse(image1, image2):\n",
    "    err = np.sum((image1.astype(\"float\") - image2.astype(\"float\")) ** 2)\n",
    "    err /= float(image1.shape[0] * image1.shape[1])\n",
    "\n",
    "    logging.info(f'Mean square error (lower is better): {err}')\n"
   ]
  },
  {
   "cell_type": "code",
   "execution_count": 26,
   "id": "792f92ce",
   "metadata": {},
   "outputs": [],
   "source": [
    "def get_overlay_image(dst_img, registered_img):\n",
    "    dst_img_rgb = cv2.cvtColor(dst_img, cv2.COLOR_GRAY2RGB)\n",
    "    registered_img_colormap = cv2.applyColorMap(registered_img, cv2.COLORMAP_HOT)\n",
    "\n",
    "    overlaid_img = cv2.addWeighted(dst_img_rgb, 0.7, registered_img_colormap, 0.3, 0)\n",
    "\n",
    "    return overlaid_img"
   ]
  },
  {
   "cell_type": "code",
   "execution_count": 27,
   "id": "0070e3e6",
   "metadata": {},
   "outputs": [],
   "source": [
    "def save_analysis_images(out_path, registered_img, src_img, src_img_path, overlaid_img):\n",
    "    cv2.imwrite(os.path.join(out_path, f'forViewing_{os.path.basename(src_img_path)}__registered.png'), registered_img)\n",
    "    cv2.imwrite(os.path.join(out_path, f'forViewing_{os.path.basename(src_img_path)}__source.png'), src_img)\n",
    "    cv2.imwrite(os.path.join(out_path, f'forViewing_{os.path.basename(src_img_path)}__overlaid.png'), overlaid_img)\n",
    "    logging.info('Saved the images that were used for registration')\n",
    "\n"
   ]
  },
  {
   "cell_type": "code",
   "execution_count": 28,
   "id": "6a51f63b",
   "metadata": {},
   "outputs": [],
   "source": [
    "def transform_original_image_and_save(out_path, src_img_path, h, dst_img_shape, src_extension):\n",
    "    n_channels = get_n_channels(src_img_path, src_extension)\n",
    "\n",
    "    if src_extension.lower() in [\".jpeg\", \".jpg\", \".png\"]:\n",
    "        read_register_and_save_png(dst_img_shape, h, out_path, src_img_path)\n",
    "    else:\n",
    "        read_register_and_save_tif(dst_img_shape, h, n_channels, out_path, src_extension, src_img_path)\n",
    "\n",
    "    logging.info('Saved transformed original image successfully.')\n",
    "\n"
   ]
  },
  {
   "cell_type": "code",
   "execution_count": 29,
   "id": "f887794a",
   "metadata": {},
   "outputs": [],
   "source": [
    "def read_register_and_save_png(dst_img_shape, h, out_path, src_img_path):\n",
    "    image = cv2.imread(src_img_path)\n",
    "    registered_img = warp_image(dst_img_shape, image, h)\n",
    "    cv2.imwrite(os.path.join(out_path, f'{os.path.basename(src_img_path)}_registered.png'), registered_img)\n",
    "\n"
   ]
  },
  {
   "cell_type": "code",
   "execution_count": 30,
   "id": "5cfad042",
   "metadata": {},
   "outputs": [],
   "source": [
    "def read_register_and_save_tif(dst_img_shape, h, n_channels, out_path, src_extension, src_img_path):\n",
    "    with tif.TiffWriter(os.path.join(out_path, f'{os.path.basename(src_img_path)}_registered.tif'),\n",
    "                        bigtiff=True, imagej=True) as t:\n",
    "        for i in range(n_channels):\n",
    "            image = read_image(src_img_path, src_extension, i)\n",
    "            registered_img = warp_image(dst_img_shape, image, h)\n",
    "            logging.info(f'registered image data type: {registered_img.dtype} and max value: {np.max(registered_img)}')\n",
    "            t.write(registered_img, contiguous=True)  # metadata={'axes': 'CYX'}\n",
    "\n"
   ]
  },
  {
   "cell_type": "code",
   "execution_count": 31,
   "id": "615cb1a0",
   "metadata": {},
   "outputs": [],
   "source": [
    "def get_n_channels(image_path, extension):\n",
    "    if extension == '.tif':\n",
    "        tif_obj = tif.TiffFile(image_path)\n",
    "        n_channels = len(tif_obj.pages)\n",
    "    elif extension == '.czi':\n",
    "        czi = read_czi(image_path)\n",
    "        n_channels = czi.get_dims_shape()[0]['C'][1]\n",
    "    else:\n",
    "        n_channels = 1\n",
    "\n",
    "    return n_channels"
   ]
  },
  {
   "cell_type": "code",
   "execution_count": 32,
   "id": "36feba76-24d2-4e88-b423-932219253e06",
   "metadata": {
    "tags": []
   },
   "outputs": [],
   "source": [
    "def plot_result(source_image, destination_image, registered_image, overlaid_image):\n",
    "    fig, ax = plt.subplots(2,2,figsize=(20,20))\n",
    "    ax[0,0].imshow(source_image, cmap='gray')\n",
    "    ax[0,0].set_title('source image')\n",
    "    ax[0,0].axis('off')\n",
    "    ax[0,1].imshow(destination_image, cmap='gray')\n",
    "    ax[0,1].set_title('destination image')\n",
    "    ax[0,1].axis('off')\n",
    "    ax[1,0].imshow(registered_image, cmap='gray')\n",
    "    ax[1,0].set_title('registered image')\n",
    "    ax[1,0].axis('off')\n",
    "    ax[1,1].imshow(overlaid_image)\n",
    "    # ax[1,1].imshow(destination_image, cmap='gray')\n",
    "    # ax[1,1].imshow(registered_image, alpha=0.3, cmap='hot_r')\n",
    "    ax[1,1].set_title('overlay')\n",
    "    ax[1,1].axis('off')"
   ]
  },
  {
   "cell_type": "code",
   "execution_count": 38,
   "id": "2c98935f-f55b-4a28-8206-82e47a036da6",
   "metadata": {
    "tags": []
   },
   "outputs": [
    {
     "name": "stderr",
     "output_type": "stream",
     "text": [
      "INFO:root:Reading destination image:\n",
      "INFO:root:Reading image ../burgstaller_channel_alignment/data/cpc_jentzsch/CPC_Jentzsch_lung_slideB-run3.ome.tif\n",
      "INFO:root:Read ../burgstaller_channel_alignment/data/cpc_jentzsch/CPC_Jentzsch_lung_slideB-run3.ome.tif, Channel: 0, image shape: (37103, 39432)\n",
      "INFO:root:image shape: (37103, 39432)\n",
      "INFO:root:image dtype: uint16\n",
      "INFO:root:image range: (0, 17096)\n",
      "INFO:root:image shape after preprocessing: (37103, 39432)\n",
      "INFO:root:image dtype after preprocessing: uint8\n",
      "INFO:root:image range after preprocessing: (0, 255)\n",
      "INFO:root:List of images to register to destination image: ../burgstaller_channel_alignment/data/cpc_jentzsch/CPC_Jentzsch_lung_slideB-run1.ome.tif\n",
      "../burgstaller_channel_alignment/data/cpc_jentzsch/CPC_Jentzsch_lung_slideB-run5.ome.tif\n",
      "../burgstaller_channel_alignment/data/cpc_jentzsch/CPC_Jentzsch_lung_slideB-run4.ome.tif\n",
      "../burgstaller_channel_alignment/data/cpc_jentzsch/CPC_Jentzsch_lung_slideB-run2.ome.tif\n",
      "../burgstaller_channel_alignment/data/cpc_jentzsch/CPC_Jentzsch_lung_slideB-run6.ome.tif\n",
      "INFO:root:Reading image ../burgstaller_channel_alignment/data/cpc_jentzsch/CPC_Jentzsch_lung_slideB-run1.ome.tif\n",
      "INFO:root:Read ../burgstaller_channel_alignment/data/cpc_jentzsch/CPC_Jentzsch_lung_slideB-run1.ome.tif, Channel: 0, image shape: (33415, 35360)\n",
      "INFO:root:image shape: (33415, 35360)\n",
      "INFO:root:image dtype: uint16\n",
      "INFO:root:image range: (0, 16730)\n",
      "INFO:root:image shape after preprocessing: (33415, 35360)\n",
      "INFO:root:image dtype after preprocessing: uint8\n",
      "INFO:root:image range after preprocessing: (0, 255)\n",
      "INFO:root:DONE: sift based keypoints detection and descriptors computation\n",
      "INFO:root:DONE: FLANN - Fast Library for Approximate Nearest Neighbors - descriptor matching\n",
      "INFO:root:DONE: get good matches by distance thresholding\n",
      "INFO:root:DONE: calculated homography matrix\n",
      "INFO:root:Registered image\n",
      "INFO:root:Mean Euclidean distance between mapped source keypoints and destination keypoints: 1.575463891029358\n",
      "INFO:root:RANSAC number of Inliers: 11300\n",
      "INFO:root:RANSAC number of Outliers: 5709\n",
      "INFO:root:Joint entropy (lower is better): 2.3584778842833036\n",
      "INFO:root:Mean square error (lower is better): 6.327713156091764\n",
      "INFO:root:Saved the images that were used for registration\n",
      "/home/ella/.local/lib/python3.10/site-packages/tifffile/tifffile.py:1560: UserWarning: <tifffile.TiffWriter 'CPC_Jentzsch_lun…_registered.tif'> writing nonconformant BigTIFF ImageJ\n",
      "  warnings.warn(\n",
      "INFO:root:Read ../burgstaller_channel_alignment/data/cpc_jentzsch/CPC_Jentzsch_lung_slideB-run1.ome.tif, Channel: 0, image shape: (33415, 35360)\n",
      "INFO:root:image shape: (33415, 35360)\n",
      "INFO:root:image dtype: uint16\n",
      "INFO:root:image range: (0, 16730)\n",
      "INFO:root:Registered image\n",
      "INFO:root:Read ../burgstaller_channel_alignment/data/cpc_jentzsch/CPC_Jentzsch_lung_slideB-run1.ome.tif, Channel: 1, image shape: (33415, 35360)\n",
      "INFO:root:image shape: (33415, 35360)\n",
      "INFO:root:image dtype: uint16\n",
      "INFO:root:image range: (0, 18233)\n",
      "INFO:root:Registered image\n",
      "INFO:root:Read ../burgstaller_channel_alignment/data/cpc_jentzsch/CPC_Jentzsch_lung_slideB-run1.ome.tif, Channel: 2, image shape: (33415, 35360)\n",
      "INFO:root:image shape: (33415, 35360)\n",
      "INFO:root:image dtype: uint16\n",
      "INFO:root:image range: (0, 19677)\n",
      "INFO:root:Registered image\n",
      "INFO:root:Reading image ../burgstaller_channel_alignment/data/cpc_jentzsch/CPC_Jentzsch_lung_slideB-run5.ome.tif\n",
      "INFO:root:Read ../burgstaller_channel_alignment/data/cpc_jentzsch/CPC_Jentzsch_lung_slideB-run5.ome.tif, Channel: 0, image shape: (35266, 35367)\n",
      "INFO:root:image shape: (35266, 35367)\n",
      "INFO:root:image dtype: uint16\n",
      "INFO:root:image range: (0, 19238)\n",
      "INFO:root:image shape after preprocessing: (35266, 35367)\n",
      "INFO:root:image dtype after preprocessing: uint8\n",
      "INFO:root:image range after preprocessing: (0, 255)\n",
      "INFO:root:DONE: sift based keypoints detection and descriptors computation\n",
      "INFO:root:DONE: FLANN - Fast Library for Approximate Nearest Neighbors - descriptor matching\n",
      "INFO:root:DONE: get good matches by distance thresholding\n",
      "INFO:root:DONE: calculated homography matrix\n",
      "INFO:root:Registered image\n",
      "INFO:root:Mean Euclidean distance between mapped source keypoints and destination keypoints: 1.896767497062683\n",
      "INFO:root:RANSAC number of Inliers: 8157\n",
      "INFO:root:RANSAC number of Outliers: 3795\n",
      "INFO:root:Joint entropy (lower is better): 2.248039688936237\n",
      "INFO:root:Mean square error (lower is better): 7.493136067861556\n",
      "INFO:root:Saved the images that were used for registration\n",
      "INFO:root:Read ../burgstaller_channel_alignment/data/cpc_jentzsch/CPC_Jentzsch_lung_slideB-run5.ome.tif, Channel: 0, image shape: (35266, 35367)\n",
      "INFO:root:image shape: (35266, 35367)\n",
      "INFO:root:image dtype: uint16\n",
      "INFO:root:image range: (0, 19238)\n",
      "INFO:root:Registered image\n",
      "INFO:root:Read ../burgstaller_channel_alignment/data/cpc_jentzsch/CPC_Jentzsch_lung_slideB-run5.ome.tif, Channel: 1, image shape: (35266, 35367)\n",
      "INFO:root:image shape: (35266, 35367)\n",
      "INFO:root:image dtype: uint16\n",
      "INFO:root:image range: (0, 19745)\n",
      "INFO:root:Registered image\n",
      "INFO:root:Read ../burgstaller_channel_alignment/data/cpc_jentzsch/CPC_Jentzsch_lung_slideB-run5.ome.tif, Channel: 2, image shape: (35266, 35367)\n",
      "INFO:root:image shape: (35266, 35367)\n",
      "INFO:root:image dtype: uint16\n",
      "INFO:root:image range: (0, 18103)\n",
      "INFO:root:Registered image\n",
      "INFO:root:Read ../burgstaller_channel_alignment/data/cpc_jentzsch/CPC_Jentzsch_lung_slideB-run5.ome.tif, Channel: 3, image shape: (35266, 35367)\n",
      "INFO:root:image shape: (35266, 35367)\n",
      "INFO:root:image dtype: uint16\n",
      "INFO:root:image range: (0, 18561)\n",
      "INFO:root:Registered image\n",
      "INFO:root:Reading image ../burgstaller_channel_alignment/data/cpc_jentzsch/CPC_Jentzsch_lung_slideB-run4.ome.tif\n",
      "INFO:root:Read ../burgstaller_channel_alignment/data/cpc_jentzsch/CPC_Jentzsch_lung_slideB-run4.ome.tif, Channel: 0, image shape: (35264, 35367)\n",
      "INFO:root:image shape: (35264, 35367)\n",
      "INFO:root:image dtype: uint16\n",
      "INFO:root:image range: (0, 17489)\n",
      "INFO:root:image shape after preprocessing: (35264, 35367)\n",
      "INFO:root:image dtype after preprocessing: uint8\n",
      "INFO:root:image range after preprocessing: (0, 255)\n",
      "INFO:root:DONE: sift based keypoints detection and descriptors computation\n",
      "INFO:root:DONE: FLANN - Fast Library for Approximate Nearest Neighbors - descriptor matching\n",
      "INFO:root:DONE: get good matches by distance thresholding\n",
      "INFO:root:DONE: calculated homography matrix\n",
      "INFO:root:Registered image\n",
      "INFO:root:Mean Euclidean distance between mapped source keypoints and destination keypoints: 1.8163951635360718\n",
      "INFO:root:RANSAC number of Inliers: 36632\n",
      "INFO:root:RANSAC number of Outliers: 8717\n",
      "INFO:root:Joint entropy (lower is better): 2.273404109796747\n",
      "INFO:root:Mean square error (lower is better): 4.21438165652232\n",
      "INFO:root:Saved the images that were used for registration\n",
      "INFO:root:Read ../burgstaller_channel_alignment/data/cpc_jentzsch/CPC_Jentzsch_lung_slideB-run4.ome.tif, Channel: 0, image shape: (35264, 35367)\n",
      "INFO:root:image shape: (35264, 35367)\n",
      "INFO:root:image dtype: uint16\n",
      "INFO:root:image range: (0, 17489)\n",
      "INFO:root:Registered image\n",
      "INFO:root:Read ../burgstaller_channel_alignment/data/cpc_jentzsch/CPC_Jentzsch_lung_slideB-run4.ome.tif, Channel: 1, image shape: (35264, 35367)\n",
      "INFO:root:image shape: (35264, 35367)\n",
      "INFO:root:image dtype: uint16\n",
      "INFO:root:image range: (0, 20289)\n",
      "INFO:root:Registered image\n",
      "INFO:root:Read ../burgstaller_channel_alignment/data/cpc_jentzsch/CPC_Jentzsch_lung_slideB-run4.ome.tif, Channel: 2, image shape: (35264, 35367)\n",
      "INFO:root:image shape: (35264, 35367)\n",
      "INFO:root:image dtype: uint16\n",
      "INFO:root:image range: (0, 18480)\n",
      "INFO:root:Registered image\n",
      "INFO:root:Read ../burgstaller_channel_alignment/data/cpc_jentzsch/CPC_Jentzsch_lung_slideB-run4.ome.tif, Channel: 3, image shape: (35264, 35367)\n",
      "INFO:root:image shape: (35264, 35367)\n",
      "INFO:root:image dtype: uint16\n",
      "INFO:root:image range: (0, 19956)\n",
      "INFO:root:Registered image\n",
      "INFO:root:Reading image ../burgstaller_channel_alignment/data/cpc_jentzsch/CPC_Jentzsch_lung_slideB-run2.ome.tif\n",
      "INFO:root:Read ../burgstaller_channel_alignment/data/cpc_jentzsch/CPC_Jentzsch_lung_slideB-run2.ome.tif, Channel: 0, image shape: (35259, 35373)\n",
      "INFO:root:image shape: (35259, 35373)\n",
      "INFO:root:image dtype: uint16\n",
      "INFO:root:image range: (0, 17025)\n",
      "INFO:root:image shape after preprocessing: (35259, 35373)\n",
      "INFO:root:image dtype after preprocessing: uint8\n",
      "INFO:root:image range after preprocessing: (0, 255)\n",
      "INFO:root:DONE: sift based keypoints detection and descriptors computation\n",
      "INFO:root:DONE: FLANN - Fast Library for Approximate Nearest Neighbors - descriptor matching\n",
      "INFO:root:DONE: get good matches by distance thresholding\n",
      "INFO:root:DONE: calculated homography matrix\n",
      "INFO:root:Registered image\n",
      "INFO:root:Mean Euclidean distance between mapped source keypoints and destination keypoints: 1.5184344053268433\n",
      "INFO:root:RANSAC number of Inliers: 37167\n",
      "INFO:root:RANSAC number of Outliers: 10701\n",
      "INFO:root:Joint entropy (lower is better): 2.236525036312894\n",
      "INFO:root:Mean square error (lower is better): 4.262625523984389\n",
      "INFO:root:Saved the images that were used for registration\n",
      "INFO:root:Read ../burgstaller_channel_alignment/data/cpc_jentzsch/CPC_Jentzsch_lung_slideB-run2.ome.tif, Channel: 0, image shape: (35259, 35373)\n",
      "INFO:root:image shape: (35259, 35373)\n",
      "INFO:root:image dtype: uint16\n",
      "INFO:root:image range: (0, 17025)\n",
      "INFO:root:Registered image\n",
      "INFO:root:Read ../burgstaller_channel_alignment/data/cpc_jentzsch/CPC_Jentzsch_lung_slideB-run2.ome.tif, Channel: 1, image shape: (35259, 35373)\n",
      "INFO:root:image shape: (35259, 35373)\n",
      "INFO:root:image dtype: uint16\n",
      "INFO:root:image range: (0, 21462)\n",
      "INFO:root:Registered image\n",
      "INFO:root:Read ../burgstaller_channel_alignment/data/cpc_jentzsch/CPC_Jentzsch_lung_slideB-run2.ome.tif, Channel: 2, image shape: (35259, 35373)\n",
      "INFO:root:image shape: (35259, 35373)\n",
      "INFO:root:image dtype: uint16\n",
      "INFO:root:image range: (0, 20571)\n",
      "INFO:root:Registered image\n",
      "INFO:root:Read ../burgstaller_channel_alignment/data/cpc_jentzsch/CPC_Jentzsch_lung_slideB-run2.ome.tif, Channel: 3, image shape: (35259, 35373)\n",
      "INFO:root:image shape: (35259, 35373)\n",
      "INFO:root:image dtype: uint16\n",
      "INFO:root:image range: (0, 21501)\n",
      "INFO:root:Registered image\n",
      "INFO:root:Reading image ../burgstaller_channel_alignment/data/cpc_jentzsch/CPC_Jentzsch_lung_slideB-run6.ome.tif\n",
      "INFO:root:Read ../burgstaller_channel_alignment/data/cpc_jentzsch/CPC_Jentzsch_lung_slideB-run6.ome.tif, Channel: 0, image shape: (33410, 35361)\n",
      "INFO:root:image shape: (33410, 35361)\n",
      "INFO:root:image dtype: uint16\n",
      "INFO:root:image range: (0, 18085)\n",
      "INFO:root:image shape after preprocessing: (33410, 35361)\n",
      "INFO:root:image dtype after preprocessing: uint8\n",
      "INFO:root:image range after preprocessing: (0, 255)\n",
      "INFO:root:DONE: sift based keypoints detection and descriptors computation\n",
      "INFO:root:DONE: FLANN - Fast Library for Approximate Nearest Neighbors - descriptor matching\n",
      "INFO:root:DONE: get good matches by distance thresholding\n",
      "INFO:root:DONE: calculated homography matrix\n",
      "INFO:root:Registered image\n",
      "INFO:root:Mean Euclidean distance between mapped source keypoints and destination keypoints: 1.3633241653442383\n",
      "INFO:root:RANSAC number of Inliers: 17580\n",
      "INFO:root:RANSAC number of Outliers: 3613\n",
      "INFO:root:Joint entropy (lower is better): 2.253562537205203\n",
      "INFO:root:Mean square error (lower is better): 6.682779476599407\n",
      "INFO:root:Saved the images that were used for registration\n",
      "INFO:root:Read ../burgstaller_channel_alignment/data/cpc_jentzsch/CPC_Jentzsch_lung_slideB-run6.ome.tif, Channel: 0, image shape: (33410, 35361)\n",
      "INFO:root:image shape: (33410, 35361)\n",
      "INFO:root:image dtype: uint16\n",
      "INFO:root:image range: (0, 18085)\n",
      "INFO:root:Registered image\n",
      "INFO:root:Read ../burgstaller_channel_alignment/data/cpc_jentzsch/CPC_Jentzsch_lung_slideB-run6.ome.tif, Channel: 1, image shape: (33410, 35361)\n",
      "INFO:root:image shape: (33410, 35361)\n",
      "INFO:root:image dtype: uint16\n",
      "INFO:root:image range: (0, 20353)\n",
      "INFO:root:Registered image\n",
      "INFO:root:Read ../burgstaller_channel_alignment/data/cpc_jentzsch/CPC_Jentzsch_lung_slideB-run6.ome.tif, Channel: 2, image shape: (33410, 35361)\n",
      "INFO:root:image shape: (33410, 35361)\n",
      "INFO:root:image dtype: uint16\n",
      "INFO:root:image range: (0, 18174)\n",
      "INFO:root:Registered image\n",
      "INFO:root:Read ../burgstaller_channel_alignment/data/cpc_jentzsch/CPC_Jentzsch_lung_slideB-run6.ome.tif, Channel: 3, image shape: (33410, 35361)\n",
      "INFO:root:image shape: (33410, 35361)\n",
      "INFO:root:image dtype: uint16\n",
      "INFO:root:image range: (0, 19447)\n",
      "INFO:root:Registered image\n"
     ]
    }
   ],
   "source": [
    "if __name__ == \"__main__\":\n",
    "\n",
    "    set_logger()\n",
    "\n",
    "#     source_image_or_dir_path, \\\n",
    "#         destination_image_path, \\\n",
    "#         output_path, \\\n",
    "#         channel_for_sift_analysis, \\\n",
    "#         tile_size, \\\n",
    "#         tile_overlap = get_user_arguments()\n",
    "\n",
    "    source_image_or_dir_path = ''\n",
    "    destination_image_path = ''\n",
    "    output_path = 'registration_output'\n",
    "    channel_for_sift_analysis = 0\n",
    "    tile_size = 5000\n",
    "    tile_overlap = 50\n",
    "\n",
    "    source_images_paths = get_list_of_source_images_paths(source_image_or_dir_path, destination_image_path)\n",
    "\n",
    "    destination_extension = get_file_extension(destination_image_path)\n",
    "    destination_image = read_and_preprocess_destination_image(destination_image_path,\n",
    "                                                              destination_extension,\n",
    "                                                              channel_for_sift_analysis)\n",
    "\n",
    "    create_output_dir(output_path, destination_image, destination_image_path)\n",
    "\n",
    "    for source_image_path in source_images_paths:\n",
    "\n",
    "        cv2.setRNGSeed(RuntimeParameters.cv2_seed.value)\n",
    "\n",
    "        source_extension = get_file_extension(source_image_path)\n",
    "        source_image = read_and_preprocess_image(source_image_path, source_extension, channel_for_sift_analysis)\n",
    "        if source_image is None:\n",
    "            continue\n",
    "\n",
    "        H, mask, source_points, destination_points = get_sift_based_transformation_matrix(source_image,\n",
    "                                                                                          destination_image,\n",
    "                                                                                          (tile_size, tile_size),\n",
    "                                                                                          tile_overlap)\n",
    "        save_h(output_path, H, source_image_path)\n",
    "\n",
    "        registered_image = warp_image(destination_image.shape, source_image, H)\n",
    "\n",
    "        check_transformation_metrics(source_points, destination_points,\n",
    "                                     H, mask, source_image, destination_image, registered_image)\n",
    "\n",
    "        overlaid_image = get_overlay_image(destination_image, registered_image)\n",
    "        save_analysis_images(output_path, registered_image, source_image, source_image_path, overlaid_image)\n",
    "        del registered_image, source_image, overlaid_image\n",
    "\n",
    "        transform_original_image_and_save(output_path, source_image_path, H, destination_image.shape, source_extension)"
   ]
  },
  {
   "cell_type": "code",
   "execution_count": 40,
   "id": "c40ca9c5",
   "metadata": {},
   "outputs": [],
   "source": [
    "import skimage\n",
    "import matplotlib.pyplot as plt"
   ]
  },
  {
   "cell_type": "code",
   "execution_count": 45,
   "id": "dd86310e-40bc-4b3a-8e14-80d305ec908b",
   "metadata": {
    "tags": []
   },
   "outputs": [
    {
     "ename": "DecompressionBombError",
     "evalue": "Image size (1181554400 pixels) exceeds limit of 178956970 pixels, could be decompression bomb DOS attack.",
     "output_type": "error",
     "traceback": [
      "\u001b[0;31m---------------------------------------------------------------------------\u001b[0m",
      "\u001b[0;31mDecompressionBombError\u001b[0m                    Traceback (most recent call last)",
      "Cell \u001b[0;32mIn[45], line 1\u001b[0m\n\u001b[0;32m----> 1\u001b[0m overlaid_image \u001b[38;5;241m=\u001b[39m \u001b[43mskimage\u001b[49m\u001b[38;5;241;43m.\u001b[39;49m\u001b[43mio\u001b[49m\u001b[38;5;241;43m.\u001b[39;49m\u001b[43mimread\u001b[49m\u001b[43m(\u001b[49m\u001b[38;5;124;43m'\u001b[39;49m\u001b[38;5;124;43m../image_registration_tool/image_registration_tool/output_eszter/forViewing_CPC_Jentzsch_lung_slideB-run2.ome.tif__overlaid.png\u001b[39;49m\u001b[38;5;124;43m'\u001b[39;49m\u001b[43m)\u001b[49m\n",
      "File \u001b[0;32m~/.local/lib/python3.10/site-packages/skimage/io/_io.py:53\u001b[0m, in \u001b[0;36mimread\u001b[0;34m(fname, as_gray, plugin, **plugin_args)\u001b[0m\n\u001b[1;32m     50\u001b[0m         plugin \u001b[38;5;241m=\u001b[39m \u001b[38;5;124m'\u001b[39m\u001b[38;5;124mtifffile\u001b[39m\u001b[38;5;124m'\u001b[39m\n\u001b[1;32m     52\u001b[0m \u001b[38;5;28;01mwith\u001b[39;00m file_or_url_context(fname) \u001b[38;5;28;01mas\u001b[39;00m fname:\n\u001b[0;32m---> 53\u001b[0m     img \u001b[38;5;241m=\u001b[39m \u001b[43mcall_plugin\u001b[49m\u001b[43m(\u001b[49m\u001b[38;5;124;43m'\u001b[39;49m\u001b[38;5;124;43mimread\u001b[39;49m\u001b[38;5;124;43m'\u001b[39;49m\u001b[43m,\u001b[49m\u001b[43m \u001b[49m\u001b[43mfname\u001b[49m\u001b[43m,\u001b[49m\u001b[43m \u001b[49m\u001b[43mplugin\u001b[49m\u001b[38;5;241;43m=\u001b[39;49m\u001b[43mplugin\u001b[49m\u001b[43m,\u001b[49m\u001b[43m \u001b[49m\u001b[38;5;241;43m*\u001b[39;49m\u001b[38;5;241;43m*\u001b[39;49m\u001b[43mplugin_args\u001b[49m\u001b[43m)\u001b[49m\n\u001b[1;32m     55\u001b[0m \u001b[38;5;28;01mif\u001b[39;00m \u001b[38;5;129;01mnot\u001b[39;00m \u001b[38;5;28mhasattr\u001b[39m(img, \u001b[38;5;124m'\u001b[39m\u001b[38;5;124mndim\u001b[39m\u001b[38;5;124m'\u001b[39m):\n\u001b[1;32m     56\u001b[0m     \u001b[38;5;28;01mreturn\u001b[39;00m img\n",
      "File \u001b[0;32m~/.local/lib/python3.10/site-packages/skimage/io/manage_plugins.py:205\u001b[0m, in \u001b[0;36mcall_plugin\u001b[0;34m(kind, *args, **kwargs)\u001b[0m\n\u001b[1;32m    202\u001b[0m     \u001b[38;5;28;01mexcept\u001b[39;00m \u001b[38;5;167;01mIndexError\u001b[39;00m:\n\u001b[1;32m    203\u001b[0m         \u001b[38;5;28;01mraise\u001b[39;00m \u001b[38;5;167;01mRuntimeError\u001b[39;00m(\u001b[38;5;124mf\u001b[39m\u001b[38;5;124m'\u001b[39m\u001b[38;5;124mCould not find the plugin \u001b[39m\u001b[38;5;124m\"\u001b[39m\u001b[38;5;132;01m{\u001b[39;00mplugin\u001b[38;5;132;01m}\u001b[39;00m\u001b[38;5;124m\"\u001b[39m\u001b[38;5;124m for \u001b[39m\u001b[38;5;132;01m{\u001b[39;00mkind\u001b[38;5;132;01m}\u001b[39;00m\u001b[38;5;124m.\u001b[39m\u001b[38;5;124m'\u001b[39m)\n\u001b[0;32m--> 205\u001b[0m \u001b[38;5;28;01mreturn\u001b[39;00m \u001b[43mfunc\u001b[49m\u001b[43m(\u001b[49m\u001b[38;5;241;43m*\u001b[39;49m\u001b[43margs\u001b[49m\u001b[43m,\u001b[49m\u001b[43m \u001b[49m\u001b[38;5;241;43m*\u001b[39;49m\u001b[38;5;241;43m*\u001b[39;49m\u001b[43mkwargs\u001b[49m\u001b[43m)\u001b[49m\n",
      "File \u001b[0;32m~/.local/lib/python3.10/site-packages/skimage/io/_plugins/imageio_plugin.py:15\u001b[0m, in \u001b[0;36mimread\u001b[0;34m(*args, **kwargs)\u001b[0m\n\u001b[1;32m     13\u001b[0m \u001b[38;5;129m@wraps\u001b[39m(imageio_imread)\n\u001b[1;32m     14\u001b[0m \u001b[38;5;28;01mdef\u001b[39;00m \u001b[38;5;21mimread\u001b[39m(\u001b[38;5;241m*\u001b[39margs, \u001b[38;5;241m*\u001b[39m\u001b[38;5;241m*\u001b[39mkwargs):\n\u001b[0;32m---> 15\u001b[0m     \u001b[38;5;28;01mreturn\u001b[39;00m np\u001b[38;5;241m.\u001b[39masarray(\u001b[43mimageio_imread\u001b[49m\u001b[43m(\u001b[49m\u001b[38;5;241;43m*\u001b[39;49m\u001b[43margs\u001b[49m\u001b[43m,\u001b[49m\u001b[43m \u001b[49m\u001b[38;5;241;43m*\u001b[39;49m\u001b[38;5;241;43m*\u001b[39;49m\u001b[43mkwargs\u001b[49m\u001b[43m)\u001b[49m)\n",
      "File \u001b[0;32m~/.local/lib/python3.10/site-packages/imageio/v2.py:227\u001b[0m, in \u001b[0;36mimread\u001b[0;34m(uri, format, **kwargs)\u001b[0m\n\u001b[1;32m    224\u001b[0m imopen_args[\u001b[38;5;124m\"\u001b[39m\u001b[38;5;124mlegacy_mode\u001b[39m\u001b[38;5;124m\"\u001b[39m] \u001b[38;5;241m=\u001b[39m \u001b[38;5;28;01mTrue\u001b[39;00m\n\u001b[1;32m    226\u001b[0m \u001b[38;5;28;01mwith\u001b[39;00m imopen(uri, \u001b[38;5;124m\"\u001b[39m\u001b[38;5;124mri\u001b[39m\u001b[38;5;124m\"\u001b[39m, \u001b[38;5;241m*\u001b[39m\u001b[38;5;241m*\u001b[39mimopen_args) \u001b[38;5;28;01mas\u001b[39;00m file:\n\u001b[0;32m--> 227\u001b[0m     result \u001b[38;5;241m=\u001b[39m \u001b[43mfile\u001b[49m\u001b[38;5;241;43m.\u001b[39;49m\u001b[43mread\u001b[49m\u001b[43m(\u001b[49m\u001b[43mindex\u001b[49m\u001b[38;5;241;43m=\u001b[39;49m\u001b[38;5;241;43m0\u001b[39;49m\u001b[43m,\u001b[49m\u001b[43m \u001b[49m\u001b[38;5;241;43m*\u001b[39;49m\u001b[38;5;241;43m*\u001b[39;49m\u001b[43mkwargs\u001b[49m\u001b[43m)\u001b[49m\n\u001b[1;32m    229\u001b[0m \u001b[38;5;28;01mreturn\u001b[39;00m result\n",
      "File \u001b[0;32m~/.local/lib/python3.10/site-packages/imageio/core/legacy_plugin_wrapper.py:147\u001b[0m, in \u001b[0;36mLegacyPlugin.read\u001b[0;34m(self, index, **kwargs)\u001b[0m\n\u001b[1;32m    144\u001b[0m     img \u001b[38;5;241m=\u001b[39m np\u001b[38;5;241m.\u001b[39mstack([im \u001b[38;5;28;01mfor\u001b[39;00m im \u001b[38;5;129;01min\u001b[39;00m \u001b[38;5;28mself\u001b[39m\u001b[38;5;241m.\u001b[39miter(\u001b[38;5;241m*\u001b[39m\u001b[38;5;241m*\u001b[39mkwargs)])\n\u001b[1;32m    145\u001b[0m     \u001b[38;5;28;01mreturn\u001b[39;00m img\n\u001b[0;32m--> 147\u001b[0m reader \u001b[38;5;241m=\u001b[39m \u001b[38;5;28;43mself\u001b[39;49m\u001b[38;5;241;43m.\u001b[39;49m\u001b[43mlegacy_get_reader\u001b[49m\u001b[43m(\u001b[49m\u001b[38;5;241;43m*\u001b[39;49m\u001b[38;5;241;43m*\u001b[39;49m\u001b[43mkwargs\u001b[49m\u001b[43m)\u001b[49m\n\u001b[1;32m    148\u001b[0m \u001b[38;5;28;01mreturn\u001b[39;00m reader\u001b[38;5;241m.\u001b[39mget_data(index)\n",
      "File \u001b[0;32m~/.local/lib/python3.10/site-packages/imageio/core/legacy_plugin_wrapper.py:116\u001b[0m, in \u001b[0;36mLegacyPlugin.legacy_get_reader\u001b[0;34m(self, **kwargs)\u001b[0m\n\u001b[1;32m    113\u001b[0m     \u001b[38;5;28;01mreturn\u001b[39;00m \u001b[38;5;28mself\u001b[39m\u001b[38;5;241m.\u001b[39m_format\u001b[38;5;241m.\u001b[39mget_reader(\u001b[38;5;28mself\u001b[39m\u001b[38;5;241m.\u001b[39m_request)\n\u001b[1;32m    115\u001b[0m \u001b[38;5;28mself\u001b[39m\u001b[38;5;241m.\u001b[39m_request\u001b[38;5;241m.\u001b[39mget_file()\u001b[38;5;241m.\u001b[39mseek(\u001b[38;5;241m0\u001b[39m)\n\u001b[0;32m--> 116\u001b[0m \u001b[38;5;28;01mreturn\u001b[39;00m \u001b[38;5;28;43mself\u001b[39;49m\u001b[38;5;241;43m.\u001b[39;49m\u001b[43m_format\u001b[49m\u001b[38;5;241;43m.\u001b[39;49m\u001b[43mget_reader\u001b[49m\u001b[43m(\u001b[49m\u001b[38;5;28;43mself\u001b[39;49m\u001b[38;5;241;43m.\u001b[39;49m\u001b[43m_request\u001b[49m\u001b[43m)\u001b[49m\n",
      "File \u001b[0;32m~/.local/lib/python3.10/site-packages/imageio/core/format.py:221\u001b[0m, in \u001b[0;36mFormat.get_reader\u001b[0;34m(self, request)\u001b[0m\n\u001b[1;32m    217\u001b[0m \u001b[38;5;28;01mif\u001b[39;00m select_mode \u001b[38;5;129;01mnot\u001b[39;00m \u001b[38;5;129;01min\u001b[39;00m \u001b[38;5;28mself\u001b[39m\u001b[38;5;241m.\u001b[39mmodes:\n\u001b[1;32m    218\u001b[0m     \u001b[38;5;28;01mraise\u001b[39;00m \u001b[38;5;167;01mRuntimeError\u001b[39;00m(\n\u001b[1;32m    219\u001b[0m         \u001b[38;5;124mf\u001b[39m\u001b[38;5;124m\"\u001b[39m\u001b[38;5;124mFormat \u001b[39m\u001b[38;5;132;01m{\u001b[39;00m\u001b[38;5;28mself\u001b[39m\u001b[38;5;241m.\u001b[39mname\u001b[38;5;132;01m}\u001b[39;00m\u001b[38;5;124m cannot read in \u001b[39m\u001b[38;5;132;01m{\u001b[39;00mrequest\u001b[38;5;241m.\u001b[39mmode\u001b[38;5;241m.\u001b[39mimage_mode\u001b[38;5;132;01m}\u001b[39;00m\u001b[38;5;124m mode\u001b[39m\u001b[38;5;124m\"\u001b[39m\n\u001b[1;32m    220\u001b[0m     )\n\u001b[0;32m--> 221\u001b[0m \u001b[38;5;28;01mreturn\u001b[39;00m \u001b[38;5;28;43mself\u001b[39;49m\u001b[38;5;241;43m.\u001b[39;49m\u001b[43mReader\u001b[49m\u001b[43m(\u001b[49m\u001b[38;5;28;43mself\u001b[39;49m\u001b[43m,\u001b[49m\u001b[43m \u001b[49m\u001b[43mrequest\u001b[49m\u001b[43m)\u001b[49m\n",
      "File \u001b[0;32m~/.local/lib/python3.10/site-packages/imageio/core/format.py:312\u001b[0m, in \u001b[0;36mFormat._BaseReaderWriter.__init__\u001b[0;34m(self, format, request)\u001b[0m\n\u001b[1;32m    310\u001b[0m \u001b[38;5;28mself\u001b[39m\u001b[38;5;241m.\u001b[39m_request \u001b[38;5;241m=\u001b[39m request\n\u001b[1;32m    311\u001b[0m \u001b[38;5;66;03m# Open the reader/writer\u001b[39;00m\n\u001b[0;32m--> 312\u001b[0m \u001b[38;5;28;43mself\u001b[39;49m\u001b[38;5;241;43m.\u001b[39;49m\u001b[43m_open\u001b[49m\u001b[43m(\u001b[49m\u001b[38;5;241;43m*\u001b[39;49m\u001b[38;5;241;43m*\u001b[39;49m\u001b[38;5;28;43mself\u001b[39;49m\u001b[38;5;241;43m.\u001b[39;49m\u001b[43mrequest\u001b[49m\u001b[38;5;241;43m.\u001b[39;49m\u001b[43mkwargs\u001b[49m\u001b[38;5;241;43m.\u001b[39;49m\u001b[43mcopy\u001b[49m\u001b[43m(\u001b[49m\u001b[43m)\u001b[49m\u001b[43m)\u001b[49m\n",
      "File \u001b[0;32m~/.local/lib/python3.10/site-packages/imageio/plugins/pillow_legacy.py:391\u001b[0m, in \u001b[0;36mPNGFormat.Reader._open\u001b[0;34m(self, pilmode, as_gray, ignoregamma)\u001b[0m\n\u001b[1;32m    390\u001b[0m \u001b[38;5;28;01mdef\u001b[39;00m \u001b[38;5;21m_open\u001b[39m(\u001b[38;5;28mself\u001b[39m, pilmode\u001b[38;5;241m=\u001b[39m\u001b[38;5;28;01mNone\u001b[39;00m, as_gray\u001b[38;5;241m=\u001b[39m\u001b[38;5;28;01mFalse\u001b[39;00m, ignoregamma\u001b[38;5;241m=\u001b[39m\u001b[38;5;28;01mTrue\u001b[39;00m):\n\u001b[0;32m--> 391\u001b[0m     \u001b[38;5;28;01mreturn\u001b[39;00m \u001b[43mPillowFormat\u001b[49m\u001b[38;5;241;43m.\u001b[39;49m\u001b[43mReader\u001b[49m\u001b[38;5;241;43m.\u001b[39;49m\u001b[43m_open\u001b[49m\u001b[43m(\u001b[49m\u001b[38;5;28;43mself\u001b[39;49m\u001b[43m,\u001b[49m\u001b[43m \u001b[49m\u001b[43mpilmode\u001b[49m\u001b[38;5;241;43m=\u001b[39;49m\u001b[43mpilmode\u001b[49m\u001b[43m,\u001b[49m\u001b[43m \u001b[49m\u001b[43mas_gray\u001b[49m\u001b[38;5;241;43m=\u001b[39;49m\u001b[43mas_gray\u001b[49m\u001b[43m)\u001b[49m\n",
      "File \u001b[0;32m~/.local/lib/python3.10/site-packages/imageio/plugins/pillow_legacy.py:289\u001b[0m, in \u001b[0;36mPillowFormat.Reader._open\u001b[0;34m(self, pilmode, as_gray)\u001b[0m\n\u001b[1;32m    287\u001b[0m \u001b[38;5;28mself\u001b[39m\u001b[38;5;241m.\u001b[39m_im \u001b[38;5;241m=\u001b[39m factory(\u001b[38;5;28mself\u001b[39m\u001b[38;5;241m.\u001b[39m_fp, \u001b[38;5;124m\"\u001b[39m\u001b[38;5;124m\"\u001b[39m)\n\u001b[1;32m    288\u001b[0m \u001b[38;5;28;01mif\u001b[39;00m \u001b[38;5;28mhasattr\u001b[39m(Image, \u001b[38;5;124m\"\u001b[39m\u001b[38;5;124m_decompression_bomb_check\u001b[39m\u001b[38;5;124m\"\u001b[39m):\n\u001b[0;32m--> 289\u001b[0m     \u001b[43mImage\u001b[49m\u001b[38;5;241;43m.\u001b[39;49m\u001b[43m_decompression_bomb_check\u001b[49m\u001b[43m(\u001b[49m\u001b[38;5;28;43mself\u001b[39;49m\u001b[38;5;241;43m.\u001b[39;49m\u001b[43m_im\u001b[49m\u001b[38;5;241;43m.\u001b[39;49m\u001b[43msize\u001b[49m\u001b[43m)\u001b[49m\n\u001b[1;32m    290\u001b[0m \u001b[38;5;66;03m# Save the raw mode used by the palette for a BMP because it may not be the number of channels\u001b[39;00m\n\u001b[1;32m    291\u001b[0m \u001b[38;5;66;03m# When the data is read, imageio hands the palette to PIL to handle and clears the rawmode argument\u001b[39;00m\n\u001b[1;32m    292\u001b[0m \u001b[38;5;66;03m# However, there is a bug in PIL with handling animated GIFs with a different color palette on each frame.\u001b[39;00m\n\u001b[1;32m    293\u001b[0m \u001b[38;5;66;03m# This issue is resolved by using the raw palette data but the rawmode information is now lost. So we\u001b[39;00m\n\u001b[1;32m    294\u001b[0m \u001b[38;5;66;03m# store the raw mode for later use\u001b[39;00m\n\u001b[1;32m    295\u001b[0m \u001b[38;5;28;01mif\u001b[39;00m \u001b[38;5;28mself\u001b[39m\u001b[38;5;241m.\u001b[39m_im\u001b[38;5;241m.\u001b[39mpalette \u001b[38;5;129;01mand\u001b[39;00m \u001b[38;5;28mself\u001b[39m\u001b[38;5;241m.\u001b[39m_im\u001b[38;5;241m.\u001b[39mpalette\u001b[38;5;241m.\u001b[39mdirty:\n",
      "File \u001b[0;32m/usr/lib/python3/dist-packages/PIL/Image.py:2890\u001b[0m, in \u001b[0;36m_decompression_bomb_check\u001b[0;34m(size)\u001b[0m\n\u001b[1;32m   2887\u001b[0m pixels \u001b[38;5;241m=\u001b[39m size[\u001b[38;5;241m0\u001b[39m] \u001b[38;5;241m*\u001b[39m size[\u001b[38;5;241m1\u001b[39m]\n\u001b[1;32m   2889\u001b[0m \u001b[38;5;28;01mif\u001b[39;00m pixels \u001b[38;5;241m>\u001b[39m \u001b[38;5;241m2\u001b[39m \u001b[38;5;241m*\u001b[39m MAX_IMAGE_PIXELS:\n\u001b[0;32m-> 2890\u001b[0m     \u001b[38;5;28;01mraise\u001b[39;00m DecompressionBombError(\n\u001b[1;32m   2891\u001b[0m         \u001b[38;5;124mf\u001b[39m\u001b[38;5;124m\"\u001b[39m\u001b[38;5;124mImage size (\u001b[39m\u001b[38;5;132;01m{\u001b[39;00mpixels\u001b[38;5;132;01m}\u001b[39;00m\u001b[38;5;124m pixels) exceeds limit of \u001b[39m\u001b[38;5;132;01m{\u001b[39;00m\u001b[38;5;241m2\u001b[39m\u001b[38;5;250m \u001b[39m\u001b[38;5;241m*\u001b[39m\u001b[38;5;250m \u001b[39mMAX_IMAGE_PIXELS\u001b[38;5;132;01m}\u001b[39;00m\u001b[38;5;124m \u001b[39m\u001b[38;5;124m\"\u001b[39m\n\u001b[1;32m   2892\u001b[0m         \u001b[38;5;124m\"\u001b[39m\u001b[38;5;124mpixels, could be decompression bomb DOS attack.\u001b[39m\u001b[38;5;124m\"\u001b[39m\n\u001b[1;32m   2893\u001b[0m     )\n\u001b[1;32m   2895\u001b[0m \u001b[38;5;28;01mif\u001b[39;00m pixels \u001b[38;5;241m>\u001b[39m MAX_IMAGE_PIXELS:\n\u001b[1;32m   2896\u001b[0m     warnings\u001b[38;5;241m.\u001b[39mwarn(\n\u001b[1;32m   2897\u001b[0m         \u001b[38;5;124mf\u001b[39m\u001b[38;5;124m\"\u001b[39m\u001b[38;5;124mImage size (\u001b[39m\u001b[38;5;132;01m{\u001b[39;00mpixels\u001b[38;5;132;01m}\u001b[39;00m\u001b[38;5;124m pixels) exceeds limit of \u001b[39m\u001b[38;5;132;01m{\u001b[39;00mMAX_IMAGE_PIXELS\u001b[38;5;132;01m}\u001b[39;00m\u001b[38;5;124m pixels, \u001b[39m\u001b[38;5;124m\"\u001b[39m\n\u001b[1;32m   2898\u001b[0m         \u001b[38;5;124m\"\u001b[39m\u001b[38;5;124mcould be decompression bomb DOS attack.\u001b[39m\u001b[38;5;124m\"\u001b[39m,\n\u001b[1;32m   2899\u001b[0m         DecompressionBombWarning,\n\u001b[1;32m   2900\u001b[0m     )\n",
      "\u001b[0;31mDecompressionBombError\u001b[0m: Image size (1181554400 pixels) exceeds limit of 178956970 pixels, could be decompression bomb DOS attack."
     ]
    }
   ],
   "source": [
    "overlaid_image = skimage.io.imread('../image_registration_tool/image_registration_tool/output_eszter/forViewing_CPC_Jentzsch_lung_slideB-run2.ome.tif__overlaid.png')"
   ]
  },
  {
   "cell_type": "code",
   "execution_count": 41,
   "id": "a8f70e9f",
   "metadata": {},
   "outputs": [
    {
     "data": {
      "text/plain": [
       "(33415, 35360, 4)"
      ]
     },
     "execution_count": 41,
     "metadata": {},
     "output_type": "execute_result"
    }
   ],
   "source": [
    "overlaid_image.shape"
   ]
  },
  {
   "cell_type": "code",
   "execution_count": 42,
   "id": "5a3812ca-4f22-46e1-b4bd-5590ca02e99f",
   "metadata": {},
   "outputs": [
    {
     "data": {
      "text/plain": [
       "<matplotlib.image.AxesImage at 0x7f7f3a3b37c0>"
      ]
     },
     "execution_count": 42,
     "metadata": {},
     "output_type": "execute_result"
    },
    {
     "data": {
      "image/png": "[encoded data removed]",
      "text/plain": [
       "<Figure size 640x480 with 1 Axes>"
      ]
     },
     "metadata": {},
     "output_type": "display_data"
    }
   ],
   "source": [
    "plt.imshow(overlaid_image[:,:,0])"
   ]
  },
  {
   "cell_type": "code",
   "execution_count": null,
   "id": "97a2b203",
   "metadata": {},
   "outputs": [],
   "source": []
  }
 ],
 "metadata": {
  "kernelspec": {
   "display_name": "Python 3 (ipykernel)",
   "language": "python",
   "name": "python3"
  },
  "language_info": {
   "codemirror_mode": {
    "name": "ipython",
    "version": 3
   },
   "file_extension": ".py",
   "mimetype": "text/x-python",
   "name": "python",
   "nbconvert_exporter": "python",
   "pygments_lexer": "ipython3",
   "version": "3.10.6"
  }
 },
 "nbformat": 4,
 "nbformat_minor": 5
}
